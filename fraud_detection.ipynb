{
 "cells": [
  {
   "cell_type": "code",
   "execution_count": 246,
   "metadata": {
    "ExecuteTime": {
     "end_time": "2020-05-24T16:10:57.807208Z",
     "start_time": "2020-05-24T16:10:57.797781Z"
    }
   },
   "outputs": [],
   "source": [
    "#libraries\n",
    "import pandas as pd\n",
    "from sklearn.preprocessing import  StandardScaler, MinMaxScaler\n",
    "from scipy.stats import skew, boxcox_normmax\n",
    "from scipy.special import boxcox1p\n",
    "import numpy as np\n",
    "import statsmodels.api as sm\n",
    "from sklearn.metrics import make_scorer\n",
    "from sklearn.metrics import roc_auc_score\n",
    "import requests\n",
    "from requests.auth import HTTPBasicAuth\n",
    "from sklearn.ensemble import RandomForestClassifier\n",
    "from sklearn.model_selection import cross_validate, GridSearchCV, ShuffleSplit\n",
    "from sklearn.preprocessing import PowerTransformer\n",
    "import re\n",
    "from deap import creator, base, tools, algorithms #GENETIC ALGORITHM LIBRARY - requirement: pip install deap\n",
    "import random\n",
    "from sklearn import metrics\n",
    "import imblearn\n",
    "from imblearn.over_sampling import SMOTE"
   ]
  },
  {
   "cell_type": "code",
   "execution_count": 247,
   "metadata": {
    "ExecuteTime": {
     "end_time": "2020-05-24T16:10:58.388863Z",
     "start_time": "2020-05-24T16:10:58.323528Z"
    }
   },
   "outputs": [],
   "source": [
    "#read data sets\n",
    "df = pd.read_csv(\"dev.csv\") #DEV-SAMPLE\n",
    "dfo = pd.read_csv(\"oot0.csv\")#OUT-OF-TIME SAMPLE"
   ]
  },
  {
   "cell_type": "code",
   "execution_count": 248,
   "metadata": {
    "ExecuteTime": {
     "end_time": "2020-05-24T16:10:58.850126Z",
     "start_time": "2020-05-24T16:10:58.837141Z"
    }
   },
   "outputs": [],
   "source": [
    "#save target and id and then drop\n",
    "y = df[\"ob_target\"]\n",
    "dfo_id = dfo[\"id\"]\n",
    "\n",
    "df = df.drop([\"ob_target\",\"id\"], axis=1)\n",
    "dfo = dfo.drop(\"id\", axis=1)"
   ]
  },
  {
   "cell_type": "markdown",
   "metadata": {},
   "source": [
    "# 1. EDA"
   ]
  },
  {
   "cell_type": "code",
   "execution_count": 179,
   "metadata": {
    "ExecuteTime": {
     "end_time": "2020-05-24T12:39:28.742040Z",
     "start_time": "2020-05-24T12:39:28.735516Z"
    }
   },
   "outputs": [
    {
     "data": {
      "text/plain": [
       "Index(['ib_var_1', 'ib_var_2', 'ib_var_3', 'ib_var_4', 'ib_var_5', 'ib_var_6',\n",
       "       'ib_var_7', 'ib_var_8', 'ib_var_9', 'ib_var_10', 'ib_var_11',\n",
       "       'ib_var_12', 'ib_var_13', 'ib_var_14', 'ib_var_15', 'ib_var_16',\n",
       "       'ib_var_17', 'ib_var_18', 'ib_var_19', 'ib_var_20', 'ib_var_21',\n",
       "       'icn_var_22', 'icn_var_23', 'icn_var_24', 'ico_var_25', 'ico_var_26',\n",
       "       'ico_var_27', 'ico_var_28', 'ico_var_29', 'ico_var_30', 'ico_var_31',\n",
       "       'ico_var_32', 'ico_var_33', 'ico_var_34', 'ico_var_35', 'ico_var_36',\n",
       "       'ico_var_37', 'ico_var_38', 'ico_var_39', 'ico_var_40', 'ico_var_41',\n",
       "       'ico_var_42', 'ico_var_43', 'ico_var_44', 'ico_var_45', 'ico_var_46',\n",
       "       'ico_var_47', 'ico_var_48', 'ico_var_49', 'ico_var_50', 'ico_var_51',\n",
       "       'ico_var_52', 'ico_var_53', 'ico_var_54', 'ico_var_55', 'ico_var_56',\n",
       "       'ico_var_57', 'ico_var_58', 'ico_var_59', 'ico_var_60', 'ico_var_61',\n",
       "       'ico_var_62', 'ico_var_63', 'ico_var_64', 'if_var_65', 'if_var_66',\n",
       "       'if_var_67', 'if_var_68', 'if_var_69', 'if_var_70', 'if_var_71',\n",
       "       'if_var_72', 'if_var_73', 'if_var_74', 'if_var_75', 'if_var_76',\n",
       "       'if_var_77', 'if_var_78', 'if_var_79', 'if_var_80', 'if_var_81'],\n",
       "      dtype='object')"
      ]
     },
     "execution_count": 179,
     "metadata": {},
     "output_type": "execute_result"
    }
   ],
   "source": [
    "df.columns"
   ]
  },
  {
   "cell_type": "code",
   "execution_count": 180,
   "metadata": {
    "ExecuteTime": {
     "end_time": "2020-05-24T12:39:29.154689Z",
     "start_time": "2020-05-24T12:39:29.140362Z"
    }
   },
   "outputs": [
    {
     "data": {
      "text/plain": [
       "Index(['ib_var_1', 'ib_var_2', 'ib_var_3', 'ib_var_4', 'ib_var_5', 'ib_var_6',\n",
       "       'ib_var_7', 'ib_var_8', 'ib_var_9', 'ib_var_10', 'ib_var_11',\n",
       "       'ib_var_12', 'ib_var_13', 'ib_var_14', 'ib_var_15', 'ib_var_16',\n",
       "       'ib_var_17', 'ib_var_18', 'ib_var_19', 'ib_var_20', 'ib_var_21',\n",
       "       'icn_var_22', 'icn_var_23', 'icn_var_24', 'ico_var_25', 'ico_var_26',\n",
       "       'ico_var_27', 'ico_var_28', 'ico_var_29', 'ico_var_30', 'ico_var_31',\n",
       "       'ico_var_32', 'ico_var_33', 'ico_var_34', 'ico_var_35', 'ico_var_36',\n",
       "       'ico_var_37', 'ico_var_38', 'ico_var_39', 'ico_var_40', 'ico_var_41',\n",
       "       'ico_var_42', 'ico_var_43', 'ico_var_44', 'ico_var_45', 'ico_var_46',\n",
       "       'ico_var_47', 'ico_var_48', 'ico_var_49', 'ico_var_50', 'ico_var_51',\n",
       "       'ico_var_52', 'ico_var_53', 'ico_var_54', 'ico_var_55', 'ico_var_56',\n",
       "       'ico_var_57', 'ico_var_58', 'ico_var_59', 'ico_var_60', 'ico_var_61',\n",
       "       'ico_var_62', 'ico_var_63', 'ico_var_64', 'if_var_65', 'if_var_66',\n",
       "       'if_var_67', 'if_var_68', 'if_var_69', 'if_var_70', 'if_var_71',\n",
       "       'if_var_72', 'if_var_73', 'if_var_74', 'if_var_75', 'if_var_76',\n",
       "       'if_var_77', 'if_var_78', 'if_var_79', 'if_var_80', 'if_var_81'],\n",
       "      dtype='object')"
      ]
     },
     "execution_count": 180,
     "metadata": {},
     "output_type": "execute_result"
    }
   ],
   "source": [
    "dfo.columns"
   ]
  },
  {
   "cell_type": "markdown",
   "metadata": {},
   "source": [
    "#### Inspecting nulls"
   ]
  },
  {
   "cell_type": "code",
   "execution_count": 58,
   "metadata": {
    "ExecuteTime": {
     "end_time": "2020-05-24T10:32:08.890571Z",
     "start_time": "2020-05-24T10:32:08.880015Z"
    }
   },
   "outputs": [
    {
     "data": {
      "text/plain": [
       "ib_var_1      0\n",
       "ico_var_58    0\n",
       "ico_var_57    0\n",
       "ico_var_56    0\n",
       "ico_var_55    0\n",
       "             ..\n",
       "icn_var_24    0\n",
       "icn_var_23    0\n",
       "icn_var_22    0\n",
       "ico_var_40    0\n",
       "if_var_81     0\n",
       "Length: 81, dtype: int64"
      ]
     },
     "execution_count": 58,
     "metadata": {},
     "output_type": "execute_result"
    }
   ],
   "source": [
    "df.isna().sum().sort_values()"
   ]
  },
  {
   "cell_type": "code",
   "execution_count": 59,
   "metadata": {
    "ExecuteTime": {
     "end_time": "2020-05-24T10:32:09.337511Z",
     "start_time": "2020-05-24T10:32:09.326290Z"
    }
   },
   "outputs": [
    {
     "data": {
      "text/plain": [
       "ico_var_31     0\n",
       "ico_var_30     0\n",
       "ico_var_37     1\n",
       "ico_var_33     1\n",
       "ib_var_19      1\n",
       "ico_var_26     1\n",
       "ib_var_15      1\n",
       "ib_var_16      1\n",
       "ib_var_17      1\n",
       "ib_var_18      1\n",
       "ib_var_20      1\n",
       "ib_var_21      1\n",
       "if_var_78     15\n",
       "icn_var_24    20\n",
       "icn_var_22    72\n",
       "dtype: int64"
      ]
     },
     "execution_count": 59,
     "metadata": {},
     "output_type": "execute_result"
    }
   ],
   "source": [
    "dfo.isna().sum().sort_values().tail(15)"
   ]
  },
  {
   "cell_type": "markdown",
   "metadata": {},
   "source": [
    "#### Inspecting our target variable"
   ]
  },
  {
   "cell_type": "code",
   "execution_count": 60,
   "metadata": {
    "ExecuteTime": {
     "end_time": "2020-05-24T10:32:10.585918Z",
     "start_time": "2020-05-24T10:32:10.342657Z"
    }
   },
   "outputs": [
    {
     "data": {
      "text/plain": [
       "<matplotlib.axes._subplots.AxesSubplot at 0x1a3d1a7fd0>"
      ]
     },
     "execution_count": 60,
     "metadata": {},
     "output_type": "execute_result"
    },
    {
     "data": {
      "image/png": "[encoded data removed]",
      "text/plain": [
       "<Figure size 432x288 with 1 Axes>"
      ]
     },
     "metadata": {
      "needs_background": "light"
     },
     "output_type": "display_data"
    }
   ],
   "source": [
    "y.hist()"
   ]
  },
  {
   "cell_type": "code",
   "execution_count": 61,
   "metadata": {
    "ExecuteTime": {
     "end_time": "2020-05-24T10:32:10.775811Z",
     "start_time": "2020-05-24T10:32:10.762129Z"
    }
   },
   "outputs": [
    {
     "name": "stdout",
     "output_type": "stream",
     "text": [
      "0.10185185185185185\n"
     ]
    }
   ],
   "source": [
    "print(len(y[y==True])/len(y))"
   ]
  },
  {
   "cell_type": "markdown",
   "metadata": {},
   "source": [
    "## 2. Treating Null Rows"
   ]
  },
  {
   "cell_type": "markdown",
   "metadata": {},
   "source": [
    "### 2.1 Removing rows where any column has a null value"
   ]
  },
  {
   "cell_type": "code",
   "execution_count": 249,
   "metadata": {
    "ExecuteTime": {
     "end_time": "2020-05-24T16:11:04.671241Z",
     "start_time": "2020-05-24T16:11:04.629417Z"
    }
   },
   "outputs": [],
   "source": [
    "dfo_with_nulls = dfo # copy of dfo\n",
    "\n",
    "dfo_nulls = dfo[dfo.isnull().any(1)] #get all the rows where there are null values\n",
    "null_cols = [col for col in dfo_nulls.columns if dfo_nulls[col].isnull().any()] #get columns where there are null values\n",
    "dfo = dfo.dropna() #get new df without these rows"
   ]
  },
  {
   "cell_type": "markdown",
   "metadata": {},
   "source": [
    "### 2.2 Define the function to obtain KS, which is the metric we will optimize in our models"
   ]
  },
  {
   "cell_type": "code",
   "execution_count": 226,
   "metadata": {
    "ExecuteTime": {
     "end_time": "2020-05-24T16:00:56.603581Z",
     "start_time": "2020-05-24T16:00:56.577433Z"
    }
   },
   "outputs": [],
   "source": [
    "def KS(b,a):  \n",
    "    \"\"\"Function that received two parameters; first: a binary variable representing 0=good and 1=bad, \n",
    "    and then a second variable with the prediction of the first variable, the second variable can be continuous, \n",
    "    integer or binary - continuous is better. Finally, the function returns the KS Statistics of the two lists.\"\"\"\n",
    "    try:\n",
    "        tot_bads=1.0*sum(b)\n",
    "        tot_goods=1.0*(len(b)-tot_bads)\n",
    "        elements = zip(*[a,b])\n",
    "        elements = sorted(elements,key= lambda x: x[0])\n",
    "        elements_df = pd.DataFrame({'probability': b,'gbi': a})\n",
    "        pivot_elements_df = pd.pivot_table(elements_df, values='probability', index=['gbi'], aggfunc=[sum,len]).fillna(0)\n",
    "        max_ks = perc_goods = perc_bads = cum_perc_bads = cum_perc_goods = 0\n",
    "        for i in range(len(pivot_elements_df)):\n",
    "            perc_goods =  (pivot_elements_df.iloc[i]['len'] - pivot_elements_df.iloc[i]['sum']) / tot_goods\n",
    "            perc_bads = pivot_elements_df.iloc[i]['sum']/ tot_bads\n",
    "            cum_perc_goods += perc_goods\n",
    "            cum_perc_bads += perc_bads\n",
    "            A = cum_perc_bads-cum_perc_goods\n",
    "            if abs(A['probability']) > max_ks:\n",
    "                max_ks = abs(A['probability'])\n",
    "    except:\n",
    "        max_ks = 0\n",
    "    return max_ks\n",
    "\n",
    "my_func = make_scorer(KS, greater_is_better=True) #with the make scorer package we can define our own function to optimizize\n"
   ]
  },
  {
   "cell_type": "code",
   "execution_count": 64,
   "metadata": {
    "ExecuteTime": {
     "end_time": "2020-05-24T10:32:37.489823Z",
     "start_time": "2020-05-24T10:32:17.083703Z"
    }
   },
   "outputs": [
    {
     "name": "stdout",
     "output_type": "stream",
     "text": [
      "{'n_estimators': 1000}\n",
      "0.0\n",
      "GINI DEVELOPMENT= 1.0\n",
      "KS= 0.9999999999999968\n"
     ]
    }
   ],
   "source": [
    "#To optimize our model we will start with a very simple gridsearch, only tuning for the number of estimators\n",
    "\n",
    "X = df\n",
    "Xo = dfo\n",
    "\n",
    "param_test = {\n",
    " 'n_estimators':[1000,1500,2000],\n",
    "}\n",
    "\n",
    "rf = RandomForestClassifier(criterion = 'gini', \n",
    "                                #n_estimators = 100,\n",
    "                                max_samples = 0.7,\n",
    "                                min_samples_split = 0.001, \n",
    "                                min_samples_leaf = 0.0001,\n",
    "                                max_leaf_nodes = 200, \n",
    "                                min_impurity_decrease = 0.0001,\n",
    "                                random_state = 21,\n",
    "                                class_weight = 'balanced')\n",
    "\n",
    "gsearch = GridSearchCV(estimator = rf, \n",
    "                       param_grid = param_test, \n",
    "                       scoring=my_func, #### we will be optimizing by my_func !\n",
    "                       n_jobs=4,\n",
    "                       cv=3,\n",
    "                       refit = True,\n",
    "                       return_train_score = True)\n",
    "\n",
    "fitted_model = gsearch.fit(X, y)\n",
    "pred_dev = gsearch.best_estimator_.predict_proba(X)[:,1]\n",
    "pred_oot  = gsearch.best_estimator_.predict_proba(Xo)[:,1]\n",
    "\n",
    "print( gsearch.best_params_)\n",
    "print( gsearch.best_score_)\n",
    "\n",
    "gini_score = 2*roc_auc_score(y, pred_dev)-1\n",
    "print (\"GINI DEVELOPMENT=\", gini_score)\n",
    "\n",
    "KS_score = KS(y,pred_dev)\n",
    "print(\"KS=\",KS_score)"
   ]
  },
  {
   "cell_type": "markdown",
   "metadata": {},
   "source": [
    "Now, lets add back those rows that we removed and predict all zeros on those rows, just for the moment.\n",
    "At the end we will find a better way to fill the prediction on the rows with null values"
   ]
  },
  {
   "cell_type": "code",
   "execution_count": 31,
   "metadata": {
    "ExecuteTime": {
     "end_time": "2020-05-24T10:27:10.580700Z",
     "start_time": "2020-05-24T10:27:10.567339Z"
    }
   },
   "outputs": [],
   "source": [
    "dfo_index = pd.DataFrame(dfo_with_nulls.index) #get index of the dataframe which includes nulls\n",
    "prediction_with_indexes = pd.DataFrame(dfo.index) #turn into dataframe\n",
    "prediction_with_indexes[\"prediction\"] = pred_oot #add the predicted values of the model without these rows\n",
    "new_df = pd.merge(dfo_index,prediction_with_indexes,  left_on=0, right_on=0, how='left') #left join\n",
    "new_df[\"prediction\"].fillna(0, inplace=True) #fill na's with 0s\n",
    "pred_oot = new_df[\"prediction\"] #and we have our final prediction"
   ]
  },
  {
   "cell_type": "markdown",
   "metadata": {},
   "source": [
    "#### And let's predict! Everytime we do a prediction we will repeat the process of adding back the rows with nulls and filling their predictions with 0's"
   ]
  },
  {
   "cell_type": "markdown",
   "metadata": {},
   "source": [
    "### 2.3 Baseline Model"
   ]
  },
  {
   "cell_type": "code",
   "execution_count": 32,
   "metadata": {
    "ExecuteTime": {
     "end_time": "2020-05-24T10:27:12.174213Z",
     "start_time": "2020-05-24T10:27:10.582857Z"
    }
   },
   "outputs": [
    {
     "name": "stdout",
     "output_type": "stream",
     "text": [
      "RESULT SUBMISSION:  KS2 = 0.3791925064; GINI = 0.484386408377; GRADE = 8.986\n"
     ]
    }
   ],
   "source": [
    "dfo_with_nulls[\"id\"]=dfo_id\n",
    "dfo_with_nulls['pred'] = pred_oot\n",
    "\n",
    "dfo_tosend = dfo_with_nulls[list(['id','pred'])]\n",
    "i=1\n",
    "filename = \"student_sub\"+str(i)+\".csv\"\n",
    "dfo_tosend.to_csv(filename, sep=',')\n",
    "url = 'http://mfalonso.pythonanywhere.com/api/v1.0/uploadpredictions'\n",
    "files = {'file': (filename, open(filename, 'rb'))}\n",
    "\n",
    "\"\"\"\n",
    "To compete in this challenge, please create an user at my teaching website: http://mfalonso.pythonanywhere.com\n",
    "and replace below where it says:\n",
    "* my_user_name_goes_here\n",
    "* my_password_goes_here\n",
    "\"\"\"\n",
    "rsub = requests.post(url, files=files, auth=HTTPBasicAuth('linacarrillo', 'draco789'))\n",
    "resp_str = str(rsub.text)\n",
    "print (\"RESULT SUBMISSION: \", resp_str)"
   ]
  },
  {
   "cell_type": "markdown",
   "metadata": {},
   "source": [
    "## 3. More data cleaning ##"
   ]
  },
  {
   "cell_type": "code",
   "execution_count": 250,
   "metadata": {
    "ExecuteTime": {
     "end_time": "2020-05-24T16:11:12.946977Z",
     "start_time": "2020-05-24T16:11:12.911406Z"
    }
   },
   "outputs": [],
   "source": [
    "#### First, let's classify the variables according to their format\n",
    "\n",
    "df_ib = df.loc[:,(df.columns.str.startswith(\"ib\"))] #input binary\n",
    "dfo_ib = dfo.loc[:,(dfo.columns.str.startswith(\"ib\"))] #input binary\n",
    "\n",
    "df_icn = df.loc[:,(df.columns.str.startswith(\"icn\"))] #input categorical nominal\n",
    "dfo_icn = dfo.loc[:,(dfo.columns.str.startswith(\"icn\"))] #input categorical nominal\n",
    "\n",
    "df_ico = df.loc[:,(df.columns.str.startswith(\"ico\"))] #input categoricl ordinal\n",
    "dfo_ico = dfo.loc[:,(dfo.columns.str.startswith(\"ico\"))] #input categoricl ordinal\n",
    "\n",
    "df_if = df.loc[:,(df.columns.str.startswith(\"if\"))] #continuous\n",
    "dfo_if = dfo.loc[:,(dfo.columns.str.startswith(\"if\"))] #continuous\n"
   ]
  },
  {
   "cell_type": "markdown",
   "metadata": {},
   "source": [
    "### 3.1 Scaling"
   ]
  },
  {
   "cell_type": "code",
   "execution_count": 210,
   "metadata": {
    "ExecuteTime": {
     "end_time": "2020-05-24T15:19:16.693935Z",
     "start_time": "2020-05-24T15:19:16.686613Z"
    }
   },
   "outputs": [],
   "source": [
    "import warnings\n",
    "warnings.filterwarnings('ignore')\n"
   ]
  },
  {
   "cell_type": "code",
   "execution_count": 251,
   "metadata": {
    "ExecuteTime": {
     "end_time": "2020-05-24T16:11:15.406345Z",
     "start_time": "2020-05-24T16:11:15.199706Z"
    }
   },
   "outputs": [],
   "source": [
    "## Scaling continuous variables\n",
    "\n",
    "scaler = MinMaxScaler()\n",
    "for column in df_if:\n",
    "    scaler.fit(df_if[[column]])\n",
    "    df[column]=scaler.transform(df_if[[column]])\n",
    "    \n",
    "for column in dfo_if:\n",
    "    scaler.fit(dfo_if[[column]])\n",
    "    dfo[column]=scaler.transform(dfo_if[[column]])\n",
    "    \n",
    "\n",
    "    "
   ]
  },
  {
   "cell_type": "code",
   "execution_count": 229,
   "metadata": {
    "ExecuteTime": {
     "end_time": "2020-05-24T16:01:39.555744Z",
     "start_time": "2020-05-24T16:01:05.530123Z"
    }
   },
   "outputs": [
    {
     "name": "stdout",
     "output_type": "stream",
     "text": [
      "{'n_estimators': 1000}\n",
      "0.0\n",
      "GINI DEVELOPMENT= 1.0\n",
      "KS= 0.9999999999999968\n",
      "RESULT SUBMISSION:  KS2 = 0.366635782216; GINI = 0.462929417093; GRADE = 8.688\n"
     ]
    }
   ],
   "source": [
    "X = df\n",
    "Xo = dfo\n",
    "\n",
    "fitted_model = gsearch.fit(X, y)\n",
    "pred_dev = gsearch.best_estimator_.predict_proba(X)[:,1]\n",
    "pred_oot  = gsearch.best_estimator_.predict_proba(Xo)[:,1]\n",
    "\n",
    "print( gsearch.best_params_)\n",
    "print( gsearch.best_score_)\n",
    "\n",
    "gini_score = 2*roc_auc_score(y, pred_dev)-1\n",
    "print (\"GINI DEVELOPMENT=\", gini_score)\n",
    "\n",
    "KS_score = KS(y,pred_dev)\n",
    "print(\"KS=\",KS_score)\n",
    "\n",
    "dfo_index = pd.DataFrame(dfo_with_nulls.index)\n",
    "prediction_with_indexes = pd.DataFrame(dfo.index)\n",
    "prediction_with_indexes[\"prediction\"] = pred_oot\n",
    "new_df = pd.merge(dfo_index,prediction_with_indexes,  left_on=0, right_on=0, how='left')\n",
    "new_df[\"prediction\"].fillna(0, inplace=True)\n",
    "pred_oot = new_df[\"prediction\"]\n",
    "\n",
    "dfo_with_nulls[\"id\"]=dfo_id\n",
    "dfo_with_nulls['pred'] = pred_oot\n",
    "\n",
    "dfo_tosend = dfo_with_nulls[list(['id','pred'])]\n",
    "i=1\n",
    "filename = \"student_sub\"+str(i)+\".csv\"\n",
    "dfo_tosend.to_csv(filename, sep=',')\n",
    "url = 'http://mfalonso.pythonanywhere.com/api/v1.0/uploadpredictions'\n",
    "files = {'file': (filename, open(filename, 'rb'))}\n",
    "\n",
    "\"\"\"\n",
    "To compete in this challenge, please create an user at my teaching website: http://mfalonso.pythonanywhere.com\n",
    "and replace below where it says:\n",
    "* my_user_name_goes_here\n",
    "* my_password_goes_here\n",
    "\"\"\"\n",
    "rsub = requests.post(url, files=files, auth=HTTPBasicAuth('linacarrillo', 'draco789'))\n",
    "resp_str = str(rsub.text)\n",
    "print (\"RESULT SUBMISSION: \", resp_str)"
   ]
  },
  {
   "cell_type": "markdown",
   "metadata": {},
   "source": [
    "### 3.2 Correcting skewness "
   ]
  },
  {
   "cell_type": "code",
   "execution_count": 252,
   "metadata": {
    "ExecuteTime": {
     "end_time": "2020-05-24T16:11:17.726984Z",
     "start_time": "2020-05-24T16:11:17.666080Z"
    }
   },
   "outputs": [],
   "source": [
    "# detecting skewed variables \n",
    "\n",
    "def skewed_features(self, threshold=0.75, fix=False, return_series=True):\n",
    "\n",
    "        df = self\n",
    "        feature_skew = df.apply(\n",
    "            lambda x: skew(x)).sort_values(ascending=False)\n",
    "\n",
    "        if fix is True:\n",
    "            high_skew = feature_skew[feature_skew > threshold]\n",
    "            skew_index = high_skew.index\n",
    "            for feature in skew_index:\n",
    "                self = boxcox1p(\n",
    "                    df[feature], boxcox_normmax(df[feature] + 1))\n",
    "        if return_series is True:\n",
    "            return feature_skew\n",
    "        \n",
    "\n",
    "skewed_features_t = pd.DataFrame(skewed_features(df_if)).reset_index()\n",
    "skewed_features_t = skewed_features_t[(skewed_features_t[0]>0.75) | (skewed_features_t[0]<(-0.75))]\n",
    "\n",
    "def skewed_features(self, threshold=0.75, fix=False, return_series=True):\n",
    "\n",
    "        df = self\n",
    "        feature_skew = df.apply(\n",
    "            lambda x: skew(x)).sort_values(ascending=False)\n",
    "\n",
    "        if fix is True:\n",
    "            high_skew = feature_skew[feature_skew > threshold]\n",
    "            skew_index = high_skew.index\n",
    "            for feature in skew_index:\n",
    "                self = boxcox1p(\n",
    "                    df[feature], boxcox_normmax(df[feature] + 1))\n",
    "        if return_series is True:\n",
    "            return feature_skew\n",
    "        \n",
    "skewed_features_o = pd.DataFrame(skewed_features(dfo_if)).reset_index()\n",
    "skewed_features_o = skewed_features_o[(skewed_features_o[0]>0.75) | (skewed_features_o[0]<(-0.75))]"
   ]
  },
  {
   "cell_type": "code",
   "execution_count": 253,
   "metadata": {
    "ExecuteTime": {
     "end_time": "2020-05-24T16:11:19.563746Z",
     "start_time": "2020-05-24T16:11:19.338857Z"
    }
   },
   "outputs": [],
   "source": [
    "pt = PowerTransformer(method='yeo-johnson')\n",
    "\n",
    "for column in df_if:\n",
    "    if column in skewed_features_t[\"index\"].values:\n",
    "        pt.fit(df_if[[column]])\n",
    "        df[column]=pt.transform(df_if[[column]])\n",
    "        \n",
    "for column in dfo_if:\n",
    "    if column in skewed_features_o[\"index\"].values:\n",
    "        pt.fit(dfo_if[[column]])\n",
    "        dfo[column]=pt.transform(dfo_if[[column]])"
   ]
  },
  {
   "cell_type": "code",
   "execution_count": 39,
   "metadata": {
    "ExecuteTime": {
     "end_time": "2020-05-24T10:28:37.054263Z",
     "start_time": "2020-05-24T10:28:17.843384Z"
    }
   },
   "outputs": [
    {
     "name": "stdout",
     "output_type": "stream",
     "text": [
      "{'n_estimators': 1000}\n",
      "0.0\n",
      "GINI DEVELOPMENT= 1.0\n",
      "KS= 0.9999999999999968\n",
      "RESULT SUBMISSION:  KS2 = 0.376176073716; GINI = 0.469355077219; GRADE = 8.914\n"
     ]
    }
   ],
   "source": [
    "X = df\n",
    "Xo = dfo\n",
    "\n",
    "fitted_model = gsearch.fit(X, y)\n",
    "pred_dev = gsearch.best_estimator_.predict_proba(X)[:,1]\n",
    "pred_oot  = gsearch.best_estimator_.predict_proba(Xo)[:,1]\n",
    "\n",
    "print( gsearch.best_params_)\n",
    "print( gsearch.best_score_)\n",
    "\n",
    "gini_score = 2*roc_auc_score(y, pred_dev)-1\n",
    "print (\"GINI DEVELOPMENT=\", gini_score)\n",
    "\n",
    "KS_score = KS(y,pred_dev)\n",
    "print(\"KS=\",KS_score)\n",
    "\n",
    "dfo_index = pd.DataFrame(dfo_with_nulls.index)\n",
    "prediction_with_indexes = pd.DataFrame(dfo.index)\n",
    "prediction_with_indexes[\"prediction\"] = pred_oot\n",
    "new_df = pd.merge(dfo_index,prediction_with_indexes,  left_on=0, right_on=0, how='left')\n",
    "new_df[\"prediction\"].fillna(0, inplace=True)\n",
    "pred_oot = new_df[\"prediction\"]\n",
    "\n",
    "dfo_with_nulls[\"id\"]=dfo_id\n",
    "dfo_with_nulls['pred'] = pred_oot\n",
    "\n",
    "dfo_tosend = dfo_with_nulls[list(['id','pred'])]\n",
    "i=1\n",
    "filename = \"student_sub\"+str(i)+\".csv\"\n",
    "dfo_tosend.to_csv(filename, sep=',')\n",
    "url = 'http://mfalonso.pythonanywhere.com/api/v1.0/uploadpredictions'\n",
    "files = {'file': (filename, open(filename, 'rb'))}\n",
    "\n",
    "\"\"\"\n",
    "To compete in this challenge, please create an user at my teaching website: http://mfalonso.pythonanywhere.com\n",
    "and replace below where it says:\n",
    "* my_user_name_goes_here\n",
    "* my_password_goes_here\n",
    "\"\"\"\n",
    "rsub = requests.post(url, files=files, auth=HTTPBasicAuth('linacarrillo', 'draco789'))\n",
    "resp_str = str(rsub.text)\n",
    "print (\"RESULT SUBMISSION: \", resp_str)"
   ]
  },
  {
   "cell_type": "markdown",
   "metadata": {},
   "source": [
    "## 4. Feature Selection : Genetic Algorithm"
   ]
  },
  {
   "cell_type": "code",
   "execution_count": 304,
   "metadata": {
    "ExecuteTime": {
     "end_time": "2020-05-24T21:48:35.377840Z",
     "start_time": "2020-05-24T21:48:35.373656Z"
    }
   },
   "outputs": [],
   "source": [
    "df[\"ob_target\"] = y #let's add back y to our dataset as it is required for the algorithm"
   ]
  },
  {
   "cell_type": "markdown",
   "metadata": {},
   "source": [
    "Using script provided by professor"
   ]
  },
  {
   "cell_type": "code",
   "execution_count": 215,
   "metadata": {
    "ExecuteTime": {
     "end_time": "2020-05-24T15:19:27.365190Z",
     "start_time": "2020-05-24T15:19:27.318499Z"
    }
   },
   "outputs": [
    {
     "name": "stdout",
     "output_type": "stream",
     "text": [
      "ib_var_1 is input binary\n",
      "ib_var_2 is input binary\n",
      "ib_var_3 is input binary\n",
      "ib_var_4 is input binary\n",
      "ib_var_5 is input binary\n",
      "ib_var_6 is input binary\n",
      "ib_var_7 is input binary\n",
      "ib_var_8 is input binary\n",
      "ib_var_9 is input binary\n",
      "ib_var_10 is input binary\n",
      "ib_var_11 is input binary\n",
      "ib_var_12 is input binary\n",
      "ib_var_13 is input binary\n",
      "ib_var_14 is input binary\n",
      "ib_var_15 is input binary\n",
      "ib_var_16 is input binary\n",
      "ib_var_17 is input binary\n",
      "ib_var_18 is input binary\n",
      "ib_var_19 is input binary\n",
      "ib_var_20 is input binary\n",
      "ib_var_21 is input binary\n",
      "icn_var_22 is input categorical nominal\n",
      "icn_var_23 is input categorical nominal\n",
      "icn_var_24 is input categorical nominal\n",
      "ico_var_25 is input categorical ordinal\n",
      "ico_var_26 is input categorical ordinal\n",
      "ico_var_27 is input categorical ordinal\n",
      "ico_var_28 is input categorical ordinal\n",
      "ico_var_29 is input categorical ordinal\n",
      "ico_var_30 is input categorical ordinal\n",
      "ico_var_31 is input categorical ordinal\n",
      "ico_var_32 is input categorical ordinal\n",
      "ico_var_33 is input categorical ordinal\n",
      "ico_var_34 is input categorical ordinal\n",
      "ico_var_35 is input categorical ordinal\n",
      "ico_var_36 is input categorical ordinal\n",
      "ico_var_37 is input categorical ordinal\n",
      "ico_var_38 is input categorical ordinal\n",
      "ico_var_39 is input categorical ordinal\n",
      "ico_var_40 is input categorical ordinal\n",
      "ico_var_41 is input categorical ordinal\n",
      "ico_var_42 is input categorical ordinal\n",
      "ico_var_43 is input categorical ordinal\n",
      "ico_var_44 is input categorical ordinal\n",
      "ico_var_45 is input categorical ordinal\n",
      "ico_var_46 is input categorical ordinal\n",
      "ico_var_47 is input categorical ordinal\n",
      "ico_var_48 is input categorical ordinal\n",
      "ico_var_49 is input categorical ordinal\n",
      "ico_var_50 is input categorical ordinal\n",
      "ico_var_51 is input categorical ordinal\n",
      "ico_var_52 is input categorical ordinal\n",
      "ico_var_53 is input categorical ordinal\n",
      "ico_var_54 is input categorical ordinal\n",
      "ico_var_55 is input categorical ordinal\n",
      "ico_var_56 is input categorical ordinal\n",
      "ico_var_57 is input categorical ordinal\n",
      "ico_var_58 is input categorical ordinal\n",
      "ico_var_59 is input categorical ordinal\n",
      "ico_var_60 is input categorical ordinal\n",
      "ico_var_61 is input categorical ordinal\n",
      "ico_var_62 is input categorical ordinal\n",
      "ico_var_63 is input categorical ordinal\n",
      "ico_var_64 is input categorical ordinal\n",
      "if_var_65 is input numerical continuos (input float)\n",
      "if_var_66 is input numerical continuos (input float)\n",
      "if_var_67 is input numerical continuos (input float)\n",
      "if_var_68 is input numerical continuos (input float)\n",
      "if_var_69 is input numerical continuos (input float)\n",
      "if_var_70 is input numerical continuos (input float)\n",
      "if_var_71 is input numerical continuos (input float)\n",
      "if_var_72 is input numerical continuos (input float)\n",
      "if_var_73 is input numerical continuos (input float)\n",
      "if_var_74 is input numerical continuos (input float)\n",
      "if_var_75 is input numerical continuos (input float)\n",
      "if_var_76 is input numerical continuos (input float)\n",
      "if_var_77 is input numerical continuos (input float)\n",
      "if_var_78 is input numerical continuos (input float)\n",
      "if_var_79 is input numerical continuos (input float)\n",
      "if_var_80 is input numerical continuos (input float)\n",
      "if_var_81 is input numerical continuos (input float)\n"
     ]
    }
   ],
   "source": [
    "in_model = []\n",
    "list_ib = set()  #input binary\n",
    "list_icn = set() #input categorical nominal\n",
    "list_ico = set() #input categorical ordinal\n",
    "list_if = set()  #input numerical continuos (input float)\n",
    "list_inputs = set()\n",
    "output_var = 'ob_target'\n",
    "\n",
    "for var_name in df.columns:\n",
    "    if re.search('^ib_',var_name):\n",
    "        list_inputs.add(var_name)      \n",
    "        list_ib.add(var_name)\n",
    "        print (var_name,\"is input binary\")\n",
    "    elif re.search('^icn_',var_name):\n",
    "        list_inputs.add(var_name)      \n",
    "        list_icn.add(var_name)\n",
    "        print (var_name,\"is input categorical nominal\")\n",
    "    elif re.search('^ico_',var_name):\n",
    "        list_inputs.add(var_name)      \n",
    "        list_ico.add(var_name)\n",
    "        print (var_name,\"is input categorical ordinal\")\n",
    "    elif re.search('^if_',var_name):\n",
    "        list_inputs.add(var_name)      \n",
    "        list_if.add(var_name)\n",
    "        print (var_name,\"is input numerical continuos (input float)\")\n",
    "    elif re.search('^ob_',var_name):\n",
    "        output_var = var_name\n",
    "    else:\n",
    "        print (\"ERROR: unable to identify the type of:\", var_name)\n",
    "        "
   ]
  },
  {
   "cell_type": "code",
   "execution_count": 264,
   "metadata": {
    "ExecuteTime": {
     "end_time": "2020-05-24T16:40:06.041726Z",
     "start_time": "2020-05-24T16:40:06.020081Z"
    }
   },
   "outputs": [],
   "source": [
    "#####\n",
    "#SETING UP THE GENETIC ALGORITHM and CALCULATING STARTING POOL (STARTING CANDIDATE POPULATION)\n",
    "#####\n",
    "creator.create(\"FitnessMax\", base.Fitness, weights=(1.0,))\n",
    "creator.create(\"Individual\", list, fitness=creator.FitnessMax)\n",
    "toolbox = base.Toolbox()\n",
    "toolbox.register(\"attr_bool\", random.randint, 0, 1)\n",
    "toolbox.register(\"individual\", tools.initRepeat, creator.Individual, toolbox.attr_bool, n=len(list_inputs))\n",
    "toolbox.register(\"population\", tools.initRepeat, list, toolbox.individual)\n",
    "def evalOneMax(individual):\n",
    "    return sum(individual),\n",
    "\n",
    "toolbox.register(\"evaluate\", evalOneMax)\n",
    "toolbox.register(\"mate\", tools.cxTwoPoint)\n",
    "toolbox.register(\"mutate\", tools.mutFlipBit, indpb=0.05)\n",
    "toolbox.register(\"select\", tools.selTournament, tournsize=3)\n",
    "\n",
    "NPOPSIZE = 80 #RANDOM STARTING POOL SIZE\n",
    "population = toolbox.population(n=NPOPSIZE)\n"
   ]
  },
  {
   "cell_type": "markdown",
   "metadata": {},
   "source": [
    "Running algorithm with a RF classifier"
   ]
  },
  {
   "cell_type": "code",
   "execution_count": 265,
   "metadata": {
    "ExecuteTime": {
     "end_time": "2020-05-24T17:17:33.527272Z",
     "start_time": "2020-05-24T16:40:07.075676Z"
    }
   },
   "outputs": [],
   "source": [
    "#####\n",
    "#ASSESSING GINI ON THE STARTING POOL\n",
    "#####\n",
    "dic_gini={}\n",
    "for i in range(np.shape(population)[0]): \n",
    "\n",
    "    # TRASLATING DNA INTO LIST OF VARIABLES (1-81)\n",
    "    var_model = []    \n",
    "    for j in range(np.shape(population)[0]): \n",
    "        if (population[i])[j]==1:\n",
    "            var_model.append(list(list_inputs)[j])\n",
    "\n",
    "    # ASSESSING GINI INDEX FOR EACH INVIVIDUAL IN THE INITIAL POOL \n",
    "            \n",
    "    X_train=df[var_model]\n",
    "    Y_train=df[output_var]\n",
    "\n",
    "    ######\n",
    "    # CHANGE_HERE - START: YOU ARE VERY LIKELY USING A DIFFERENT TECHNIQUE BY NOW. SO CHANGE TO YOURS.\n",
    "    #####             \n",
    "    rf = RandomForestClassifier(criterion = 'entropy', \n",
    "                                n_estimators = 10000,\n",
    "                                oob_score=True,\n",
    "                                min_samples_split = 2, \n",
    "                                min_samples_leaf = 1,\n",
    "                                bootstrap = True,\n",
    "                                max_features='log2',\n",
    "                                random_state = 21,\n",
    "                                class_weight = 'balanced')\n",
    "    model=rf.fit(X_train,Y_train)   \n",
    "    Y_predict=model.predict(X_train)\n",
    "    ######\n",
    "    # CHANGE_HERE - END: YOU ARE VERY LIKELY USING A DIFFERENT TECHNIQUE BY NOW. SO CHANGE TO YOURS.\n",
    "    #####             \n",
    "\n",
    "\n",
    "    ######\n",
    "    # CHANGE_HERE - START: HERE IT USES THE DEVELOPMENT GINI TO SELECT VARIABLES, YOU SHOULD A DIFFERENT GINI. EITHER THE OOT GINI OR THE SQRT(DEV_GINI*OOT_GINI)\n",
    "    #####                \n",
    "    fpr, tpr, thresholds = metrics.roc_curve(Y_train, Y_predict)\n",
    "    auc = metrics.auc(fpr, tpr)\n",
    "    gini_power = abs(2*auc-1)\n",
    "    ######\n",
    "    # CHANGE_HERE - END: HERE IT USES THE DEVELOPMENT GINI TO SELECT VARIABLES, YOU SHOULD A DIFFERENT GINI. EITHER THE OOT GINI OR THE SQRT(DEV_GINI*OOT_GINI)\n",
    "    #####                \n",
    "    \n",
    "    gini=str(gini_power)+\";\"+str(population[i]).replace('[','').replace(', ','').replace(']','')\n",
    "    dic_gini[gini]=population[i]   \n",
    "list_gini=sorted(dic_gini.keys(),reverse=True)"
   ]
  },
  {
   "cell_type": "code",
   "execution_count": 305,
   "metadata": {
    "ExecuteTime": {
     "end_time": "2020-05-24T21:48:39.723716Z",
     "start_time": "2020-05-24T21:48:39.718173Z"
    }
   },
   "outputs": [],
   "source": [
    "dfo[\"id\"] = dfo.index"
   ]
  },
  {
   "cell_type": "code",
   "execution_count": 306,
   "metadata": {
    "ExecuteTime": {
     "end_time": "2020-05-24T22:01:12.830948Z",
     "start_time": "2020-05-24T21:48:40.226342Z"
    }
   },
   "outputs": [
    {
     "name": "stdout",
     "output_type": "stream",
     "text": [
      "loop  1\n",
      "KS2 = 0.335531058513; GINI = 0.4421725247; GRADE = 7.951\n",
      "KS2 = 0.347550578101; GINI = 0.466727973456; GRADE = 8.236\n",
      "KS2 = 0.347362267673; GINI = 0.456368589358; GRADE = 8.231\n",
      "KS2 = 0.355116498304; GINI = 0.471462305567; GRADE = 8.415\n",
      "KS2 = 0.34820908696; GINI = 0.459229059418; GRADE = 8.251\n",
      "KS2 = 0.34313741347; GINI = 0.46509903049; GRADE = 8.131\n",
      "KS2 = 0.370925332027; GINI = 0.454835534524; GRADE = 8.79\n",
      "KS2 = 0.373547814675; GINI = 0.492761023669; GRADE = 8.852\n",
      "KS2 = 0.404412240409; GINI = 0.505485263265; GRADE = 9.583\n",
      "KS2 = 0.324734979066; GINI = 0.457853122487; GRADE = 7.695\n",
      "KS2 = 0.328692963891; GINI = 0.442537592769; GRADE = 7.789\n",
      "KS2 = 0.364778094067; GINI = 0.45391593268; GRADE = 8.644\n",
      "KS2 = 0.330275695709; GINI = 0.439770700284; GRADE = 7.826\n",
      "KS2 = 0.372582001682; GINI = 0.491776726217; GRADE = 8.829\n",
      "KS2 = 0.364396852097; GINI = 0.458215879999; GRADE = 8.635\n"
     ]
    },
    {
     "ename": "KeyboardInterrupt",
     "evalue": "",
     "output_type": "error",
     "traceback": [
      "\u001b[0;31m---------------------------------------------------------------------------\u001b[0m",
      "\u001b[0;31mKeyboardInterrupt\u001b[0m                         Traceback (most recent call last)",
      "\u001b[0;32m<ipython-input-306-09680ee03ee5>\u001b[0m in \u001b[0;36m<module>\u001b[0;34m\u001b[0m\n\u001b[1;32m     57\u001b[0m                                 \u001b[0mrandom_state\u001b[0m \u001b[0;34m=\u001b[0m \u001b[0;36m21\u001b[0m\u001b[0;34m,\u001b[0m\u001b[0;34m\u001b[0m\u001b[0;34m\u001b[0m\u001b[0m\n\u001b[1;32m     58\u001b[0m                                 class_weight = 'balanced')\n\u001b[0;32m---> 59\u001b[0;31m             \u001b[0mmodel\u001b[0m\u001b[0;34m=\u001b[0m\u001b[0mrf\u001b[0m\u001b[0;34m.\u001b[0m\u001b[0mfit\u001b[0m\u001b[0;34m(\u001b[0m\u001b[0mX_train\u001b[0m\u001b[0;34m,\u001b[0m\u001b[0mY_train\u001b[0m\u001b[0;34m)\u001b[0m\u001b[0;34m\u001b[0m\u001b[0;34m\u001b[0m\u001b[0m\n\u001b[0m\u001b[1;32m     60\u001b[0m \u001b[0;34m\u001b[0m\u001b[0m\n\u001b[1;32m     61\u001b[0m             \u001b[0mY_predict\u001b[0m\u001b[0;34m=\u001b[0m\u001b[0mmodel\u001b[0m\u001b[0;34m.\u001b[0m\u001b[0mpredict_proba\u001b[0m\u001b[0;34m(\u001b[0m\u001b[0mX_test\u001b[0m\u001b[0;34m)\u001b[0m\u001b[0;34m[\u001b[0m\u001b[0;34m:\u001b[0m\u001b[0;34m,\u001b[0m\u001b[0;36m1\u001b[0m\u001b[0;34m]\u001b[0m \u001b[0;31m#changed from X_train to x test to get gini from my actual test data\u001b[0m\u001b[0;34m\u001b[0m\u001b[0;34m\u001b[0m\u001b[0m\n",
      "\u001b[0;32m~/anaconda3/lib/python3.7/site-packages/sklearn/ensemble/_forest.py\u001b[0m in \u001b[0;36mfit\u001b[0;34m(self, X, y, sample_weight)\u001b[0m\n\u001b[1;32m    367\u001b[0m             trees = [self._make_estimator(append=False,\n\u001b[1;32m    368\u001b[0m                                           random_state=random_state)\n\u001b[0;32m--> 369\u001b[0;31m                      for i in range(n_more_estimators)]\n\u001b[0m\u001b[1;32m    370\u001b[0m \u001b[0;34m\u001b[0m\u001b[0m\n\u001b[1;32m    371\u001b[0m             \u001b[0;31m# Parallel loop: we prefer the threading backend as the Cython code\u001b[0m\u001b[0;34m\u001b[0m\u001b[0;34m\u001b[0m\u001b[0;34m\u001b[0m\u001b[0m\n",
      "\u001b[0;32m~/anaconda3/lib/python3.7/site-packages/sklearn/ensemble/_forest.py\u001b[0m in \u001b[0;36m<listcomp>\u001b[0;34m(.0)\u001b[0m\n\u001b[1;32m    367\u001b[0m             trees = [self._make_estimator(append=False,\n\u001b[1;32m    368\u001b[0m                                           random_state=random_state)\n\u001b[0;32m--> 369\u001b[0;31m                      for i in range(n_more_estimators)]\n\u001b[0m\u001b[1;32m    370\u001b[0m \u001b[0;34m\u001b[0m\u001b[0m\n\u001b[1;32m    371\u001b[0m             \u001b[0;31m# Parallel loop: we prefer the threading backend as the Cython code\u001b[0m\u001b[0;34m\u001b[0m\u001b[0;34m\u001b[0m\u001b[0;34m\u001b[0m\u001b[0m\n",
      "\u001b[0;32m~/anaconda3/lib/python3.7/site-packages/sklearn/ensemble/_base.py\u001b[0m in \u001b[0;36m_make_estimator\u001b[0;34m(self, append, random_state)\u001b[0m\n\u001b[1;32m    150\u001b[0m \u001b[0;34m\u001b[0m\u001b[0m\n\u001b[1;32m    151\u001b[0m         \u001b[0;32mif\u001b[0m \u001b[0mrandom_state\u001b[0m \u001b[0;32mis\u001b[0m \u001b[0;32mnot\u001b[0m \u001b[0;32mNone\u001b[0m\u001b[0;34m:\u001b[0m\u001b[0;34m\u001b[0m\u001b[0;34m\u001b[0m\u001b[0m\n\u001b[0;32m--> 152\u001b[0;31m             \u001b[0m_set_random_states\u001b[0m\u001b[0;34m(\u001b[0m\u001b[0mestimator\u001b[0m\u001b[0;34m,\u001b[0m \u001b[0mrandom_state\u001b[0m\u001b[0;34m)\u001b[0m\u001b[0;34m\u001b[0m\u001b[0;34m\u001b[0m\u001b[0m\n\u001b[0m\u001b[1;32m    153\u001b[0m \u001b[0;34m\u001b[0m\u001b[0m\n\u001b[1;32m    154\u001b[0m         \u001b[0;32mif\u001b[0m \u001b[0mappend\u001b[0m\u001b[0;34m:\u001b[0m\u001b[0;34m\u001b[0m\u001b[0;34m\u001b[0m\u001b[0m\n",
      "\u001b[0;32m~/anaconda3/lib/python3.7/site-packages/sklearn/ensemble/_base.py\u001b[0m in \u001b[0;36m_set_random_states\u001b[0;34m(estimator, random_state)\u001b[0m\n\u001b[1;32m     73\u001b[0m \u001b[0;34m\u001b[0m\u001b[0m\n\u001b[1;32m     74\u001b[0m     \u001b[0;32mif\u001b[0m \u001b[0mto_set\u001b[0m\u001b[0;34m:\u001b[0m\u001b[0;34m\u001b[0m\u001b[0;34m\u001b[0m\u001b[0m\n\u001b[0;32m---> 75\u001b[0;31m         \u001b[0mestimator\u001b[0m\u001b[0;34m.\u001b[0m\u001b[0mset_params\u001b[0m\u001b[0;34m(\u001b[0m\u001b[0;34m**\u001b[0m\u001b[0mto_set\u001b[0m\u001b[0;34m)\u001b[0m\u001b[0;34m\u001b[0m\u001b[0;34m\u001b[0m\u001b[0m\n\u001b[0m\u001b[1;32m     76\u001b[0m \u001b[0;34m\u001b[0m\u001b[0m\n\u001b[1;32m     77\u001b[0m \u001b[0;34m\u001b[0m\u001b[0m\n",
      "\u001b[0;32m~/anaconda3/lib/python3.7/site-packages/sklearn/base.py\u001b[0m in \u001b[0;36mset_params\u001b[0;34m(self, **params)\u001b[0m\n\u001b[1;32m    225\u001b[0m             \u001b[0;31m# Simple optimization to gain speed (inspect is slow)\u001b[0m\u001b[0;34m\u001b[0m\u001b[0;34m\u001b[0m\u001b[0;34m\u001b[0m\u001b[0m\n\u001b[1;32m    226\u001b[0m             \u001b[0;32mreturn\u001b[0m \u001b[0mself\u001b[0m\u001b[0;34m\u001b[0m\u001b[0;34m\u001b[0m\u001b[0m\n\u001b[0;32m--> 227\u001b[0;31m         \u001b[0mvalid_params\u001b[0m \u001b[0;34m=\u001b[0m \u001b[0mself\u001b[0m\u001b[0;34m.\u001b[0m\u001b[0mget_params\u001b[0m\u001b[0;34m(\u001b[0m\u001b[0mdeep\u001b[0m\u001b[0;34m=\u001b[0m\u001b[0;32mTrue\u001b[0m\u001b[0;34m)\u001b[0m\u001b[0;34m\u001b[0m\u001b[0;34m\u001b[0m\u001b[0m\n\u001b[0m\u001b[1;32m    228\u001b[0m \u001b[0;34m\u001b[0m\u001b[0m\n\u001b[1;32m    229\u001b[0m         \u001b[0mnested_params\u001b[0m \u001b[0;34m=\u001b[0m \u001b[0mdefaultdict\u001b[0m\u001b[0;34m(\u001b[0m\u001b[0mdict\u001b[0m\u001b[0;34m)\u001b[0m  \u001b[0;31m# grouped by prefix\u001b[0m\u001b[0;34m\u001b[0m\u001b[0;34m\u001b[0m\u001b[0m\n",
      "\u001b[0;32m~/anaconda3/lib/python3.7/site-packages/sklearn/base.py\u001b[0m in \u001b[0;36mget_params\u001b[0;34m(self, deep)\u001b[0m\n\u001b[1;32m    187\u001b[0m         \"\"\"\n\u001b[1;32m    188\u001b[0m         \u001b[0mout\u001b[0m \u001b[0;34m=\u001b[0m \u001b[0mdict\u001b[0m\u001b[0;34m(\u001b[0m\u001b[0;34m)\u001b[0m\u001b[0;34m\u001b[0m\u001b[0;34m\u001b[0m\u001b[0m\n\u001b[0;32m--> 189\u001b[0;31m         \u001b[0;32mfor\u001b[0m \u001b[0mkey\u001b[0m \u001b[0;32min\u001b[0m \u001b[0mself\u001b[0m\u001b[0;34m.\u001b[0m\u001b[0m_get_param_names\u001b[0m\u001b[0;34m(\u001b[0m\u001b[0;34m)\u001b[0m\u001b[0;34m:\u001b[0m\u001b[0;34m\u001b[0m\u001b[0;34m\u001b[0m\u001b[0m\n\u001b[0m\u001b[1;32m    190\u001b[0m             \u001b[0;32mtry\u001b[0m\u001b[0;34m:\u001b[0m\u001b[0;34m\u001b[0m\u001b[0;34m\u001b[0m\u001b[0m\n\u001b[1;32m    191\u001b[0m                 \u001b[0mvalue\u001b[0m \u001b[0;34m=\u001b[0m \u001b[0mgetattr\u001b[0m\u001b[0;34m(\u001b[0m\u001b[0mself\u001b[0m\u001b[0;34m,\u001b[0m \u001b[0mkey\u001b[0m\u001b[0;34m)\u001b[0m\u001b[0;34m\u001b[0m\u001b[0;34m\u001b[0m\u001b[0m\n",
      "\u001b[0;32m~/anaconda3/lib/python3.7/site-packages/sklearn/base.py\u001b[0m in \u001b[0;36m_get_param_names\u001b[0;34m(cls)\u001b[0m\n\u001b[1;32m    156\u001b[0m         \u001b[0;31m# introspect the constructor arguments to find the model parameters\u001b[0m\u001b[0;34m\u001b[0m\u001b[0;34m\u001b[0m\u001b[0;34m\u001b[0m\u001b[0m\n\u001b[1;32m    157\u001b[0m         \u001b[0;31m# to represent\u001b[0m\u001b[0;34m\u001b[0m\u001b[0;34m\u001b[0m\u001b[0;34m\u001b[0m\u001b[0m\n\u001b[0;32m--> 158\u001b[0;31m         \u001b[0minit_signature\u001b[0m \u001b[0;34m=\u001b[0m \u001b[0minspect\u001b[0m\u001b[0;34m.\u001b[0m\u001b[0msignature\u001b[0m\u001b[0;34m(\u001b[0m\u001b[0minit\u001b[0m\u001b[0;34m)\u001b[0m\u001b[0;34m\u001b[0m\u001b[0;34m\u001b[0m\u001b[0m\n\u001b[0m\u001b[1;32m    159\u001b[0m         \u001b[0;31m# Consider the constructor parameters excluding 'self'\u001b[0m\u001b[0;34m\u001b[0m\u001b[0;34m\u001b[0m\u001b[0;34m\u001b[0m\u001b[0m\n\u001b[1;32m    160\u001b[0m         parameters = [p for p in init_signature.parameters.values()\n",
      "\u001b[0;32m~/anaconda3/lib/python3.7/inspect.py\u001b[0m in \u001b[0;36msignature\u001b[0;34m(obj, follow_wrapped)\u001b[0m\n\u001b[1;32m   3081\u001b[0m \u001b[0;32mdef\u001b[0m \u001b[0msignature\u001b[0m\u001b[0;34m(\u001b[0m\u001b[0mobj\u001b[0m\u001b[0;34m,\u001b[0m \u001b[0;34m*\u001b[0m\u001b[0;34m,\u001b[0m \u001b[0mfollow_wrapped\u001b[0m\u001b[0;34m=\u001b[0m\u001b[0;32mTrue\u001b[0m\u001b[0;34m)\u001b[0m\u001b[0;34m:\u001b[0m\u001b[0;34m\u001b[0m\u001b[0;34m\u001b[0m\u001b[0m\n\u001b[1;32m   3082\u001b[0m     \u001b[0;34m\"\"\"Get a signature object for the passed callable.\"\"\"\u001b[0m\u001b[0;34m\u001b[0m\u001b[0;34m\u001b[0m\u001b[0m\n\u001b[0;32m-> 3083\u001b[0;31m     \u001b[0;32mreturn\u001b[0m \u001b[0mSignature\u001b[0m\u001b[0;34m.\u001b[0m\u001b[0mfrom_callable\u001b[0m\u001b[0;34m(\u001b[0m\u001b[0mobj\u001b[0m\u001b[0;34m,\u001b[0m \u001b[0mfollow_wrapped\u001b[0m\u001b[0;34m=\u001b[0m\u001b[0mfollow_wrapped\u001b[0m\u001b[0;34m)\u001b[0m\u001b[0;34m\u001b[0m\u001b[0;34m\u001b[0m\u001b[0m\n\u001b[0m\u001b[1;32m   3084\u001b[0m \u001b[0;34m\u001b[0m\u001b[0m\n\u001b[1;32m   3085\u001b[0m \u001b[0;34m\u001b[0m\u001b[0m\n",
      "\u001b[0;32m~/anaconda3/lib/python3.7/inspect.py\u001b[0m in \u001b[0;36mfrom_callable\u001b[0;34m(cls, obj, follow_wrapped)\u001b[0m\n\u001b[1;32m   2831\u001b[0m         \u001b[0;34m\"\"\"Constructs Signature for the given callable object.\"\"\"\u001b[0m\u001b[0;34m\u001b[0m\u001b[0;34m\u001b[0m\u001b[0m\n\u001b[1;32m   2832\u001b[0m         return _signature_from_callable(obj, sigcls=cls,\n\u001b[0;32m-> 2833\u001b[0;31m                                         follow_wrapper_chains=follow_wrapped)\n\u001b[0m\u001b[1;32m   2834\u001b[0m \u001b[0;34m\u001b[0m\u001b[0m\n\u001b[1;32m   2835\u001b[0m     \u001b[0;34m@\u001b[0m\u001b[0mproperty\u001b[0m\u001b[0;34m\u001b[0m\u001b[0;34m\u001b[0m\u001b[0m\n",
      "\u001b[0;32m~/anaconda3/lib/python3.7/inspect.py\u001b[0m in \u001b[0;36m_signature_from_callable\u001b[0;34m(obj, follow_wrapper_chains, skip_bound_arg, sigcls)\u001b[0m\n\u001b[1;32m   2224\u001b[0m     \u001b[0;31m# Was this function wrapped by a decorator?\u001b[0m\u001b[0;34m\u001b[0m\u001b[0;34m\u001b[0m\u001b[0;34m\u001b[0m\u001b[0m\n\u001b[1;32m   2225\u001b[0m     \u001b[0;32mif\u001b[0m \u001b[0mfollow_wrapper_chains\u001b[0m\u001b[0;34m:\u001b[0m\u001b[0;34m\u001b[0m\u001b[0;34m\u001b[0m\u001b[0m\n\u001b[0;32m-> 2226\u001b[0;31m         \u001b[0mobj\u001b[0m \u001b[0;34m=\u001b[0m \u001b[0munwrap\u001b[0m\u001b[0;34m(\u001b[0m\u001b[0mobj\u001b[0m\u001b[0;34m,\u001b[0m \u001b[0mstop\u001b[0m\u001b[0;34m=\u001b[0m\u001b[0;34m(\u001b[0m\u001b[0;32mlambda\u001b[0m \u001b[0mf\u001b[0m\u001b[0;34m:\u001b[0m \u001b[0mhasattr\u001b[0m\u001b[0;34m(\u001b[0m\u001b[0mf\u001b[0m\u001b[0;34m,\u001b[0m \u001b[0;34m\"__signature__\"\u001b[0m\u001b[0;34m)\u001b[0m\u001b[0;34m)\u001b[0m\u001b[0;34m)\u001b[0m\u001b[0;34m\u001b[0m\u001b[0;34m\u001b[0m\u001b[0m\n\u001b[0m\u001b[1;32m   2227\u001b[0m         \u001b[0;32mif\u001b[0m \u001b[0misinstance\u001b[0m\u001b[0;34m(\u001b[0m\u001b[0mobj\u001b[0m\u001b[0;34m,\u001b[0m \u001b[0mtypes\u001b[0m\u001b[0;34m.\u001b[0m\u001b[0mMethodType\u001b[0m\u001b[0;34m)\u001b[0m\u001b[0;34m:\u001b[0m\u001b[0;34m\u001b[0m\u001b[0;34m\u001b[0m\u001b[0m\n\u001b[1;32m   2228\u001b[0m             \u001b[0;31m# If the unwrapped object is a *method*, we might want to\u001b[0m\u001b[0;34m\u001b[0m\u001b[0;34m\u001b[0m\u001b[0;34m\u001b[0m\u001b[0m\n",
      "\u001b[0;32m~/anaconda3/lib/python3.7/inspect.py\u001b[0m in \u001b[0;36munwrap\u001b[0;34m(func, stop)\u001b[0m\n\u001b[1;32m    502\u001b[0m             \u001b[0;32mreturn\u001b[0m \u001b[0mhasattr\u001b[0m\u001b[0;34m(\u001b[0m\u001b[0mf\u001b[0m\u001b[0;34m,\u001b[0m \u001b[0;34m'__wrapped__'\u001b[0m\u001b[0;34m)\u001b[0m\u001b[0;34m\u001b[0m\u001b[0;34m\u001b[0m\u001b[0m\n\u001b[1;32m    503\u001b[0m     \u001b[0;32melse\u001b[0m\u001b[0;34m:\u001b[0m\u001b[0;34m\u001b[0m\u001b[0;34m\u001b[0m\u001b[0m\n\u001b[0;32m--> 504\u001b[0;31m         \u001b[0;32mdef\u001b[0m \u001b[0m_is_wrapper\u001b[0m\u001b[0;34m(\u001b[0m\u001b[0mf\u001b[0m\u001b[0;34m)\u001b[0m\u001b[0;34m:\u001b[0m\u001b[0;34m\u001b[0m\u001b[0;34m\u001b[0m\u001b[0m\n\u001b[0m\u001b[1;32m    505\u001b[0m             \u001b[0;32mreturn\u001b[0m \u001b[0mhasattr\u001b[0m\u001b[0;34m(\u001b[0m\u001b[0mf\u001b[0m\u001b[0;34m,\u001b[0m \u001b[0;34m'__wrapped__'\u001b[0m\u001b[0;34m)\u001b[0m \u001b[0;32mand\u001b[0m \u001b[0;32mnot\u001b[0m \u001b[0mstop\u001b[0m\u001b[0;34m(\u001b[0m\u001b[0mf\u001b[0m\u001b[0;34m)\u001b[0m\u001b[0;34m\u001b[0m\u001b[0;34m\u001b[0m\u001b[0m\n\u001b[1;32m    506\u001b[0m     \u001b[0mf\u001b[0m \u001b[0;34m=\u001b[0m \u001b[0mfunc\u001b[0m  \u001b[0;31m# remember the original func for error reporting\u001b[0m\u001b[0;34m\u001b[0m\u001b[0;34m\u001b[0m\u001b[0m\n",
      "\u001b[0;31mKeyboardInterrupt\u001b[0m: "
     ]
    }
   ],
   "source": [
    "import time\n",
    "#####\n",
    "#GENETIC ALGORITHM MAIN LOOP - START\n",
    "# - ITERATING MANY TIMES UNTIL NO IMPROVMENT HAPPENS IN ORDER TO FIND THE OPTIMAL SET OF CHARACTERISTICS (VARIABLES)\n",
    "#####\n",
    "sum_current_gini=0.0\n",
    "sum_current_gini_1=0.0\n",
    "sum_current_gini_2=0.0\n",
    "first=0    \n",
    "OK = 1\n",
    "a=0\n",
    "while OK:  #REPEAT UNTIL IT DO NOT IMPROVE, AT LEAST A LITLE, THE GINI IN 2 GENERATIONS\n",
    "    a=a+1\n",
    "    print ('loop ', a)\n",
    "    OK=0\n",
    "\n",
    "    ####\n",
    "    # GENERATING OFFSPRING - START\n",
    "    ####\n",
    "    offspring = algorithms.varAnd(population, toolbox, cxpb=0.5, mutpb=0.1) #CROSS-X PROBABILITY = 50%, MUTATION PROBABILITY=10%\n",
    "    fits = toolbox.map(toolbox.evaluate, offspring)\n",
    "    for fit, ind in zip(fits, offspring):\n",
    "        ind.fitness.values = fit\n",
    "    population =toolbox.select(offspring, k=len(population))\n",
    "    ####\n",
    "    # GENERATING OFFSPRING - END\n",
    "    ####\n",
    "\n",
    "    sum_current_gini_2=sum_current_gini_1\n",
    "    sum_current_gini_1=sum_current_gini\n",
    "    sum_current_gini=0.0\n",
    "\n",
    "    #####\n",
    "    #ASSESSING GINI ON THE OFFSPRING - START\n",
    "    #####\n",
    "    for j in range(np.shape(population)[0]): \n",
    "        if population[j] not in dic_gini.values(): \n",
    "            var_model = [] \n",
    "            for i in range(np.shape(population)[0]): \n",
    "                if (population[j])[i]==1:\n",
    "                    var_model.append(list(list_inputs)[i])\n",
    "                    \n",
    "            X_test= dfo[var_model] #set x test\n",
    "            X_train=df[var_model]\n",
    "            Y_train=df[output_var]\n",
    "            \n",
    "            ######\n",
    "            # CHANGE_HERE - START: YOU ARE VERY LIKELY USING A DIFFERENT TECHNIQUE BY NOW. SO CHANGE TO YOURS.\n",
    "            #####            \n",
    "            rf = RandomForestClassifier(criterion = 'entropy', \n",
    "                                n_estimators = 10000,\n",
    "                                oob_score=True,\n",
    "                                min_samples_split = 2, \n",
    "                                min_samples_leaf = 1,\n",
    "                                bootstrap = True,\n",
    "                                max_features='log2',\n",
    "                                random_state = 21,\n",
    "                                class_weight = 'balanced')\n",
    "            model=rf.fit(X_train,Y_train)\n",
    "            \n",
    "            Y_predict=model.predict_proba(X_test)[:,1] #changed from X_train to x test to get gini from my actual test data\n",
    "            \n",
    "            dfo_index = pd.DataFrame(dfo_with_nulls.index)\n",
    "            prediction_with_indexes = pd.DataFrame(dfo.index)\n",
    "            prediction_with_indexes[\"prediction\"] = Y_predict\n",
    "            new_df = pd.merge(dfo_index,prediction_with_indexes,  left_on=0, right_on=0, how='left')\n",
    "            new_df[\"prediction\"].fillna(0, inplace=True)\n",
    "            pred_oot = new_df[\"prediction\"]\n",
    "\n",
    "            ######\n",
    "            # CHANGE_HERE - END: YOU ARE VERY LIKELY USING A DIFFERENT TECHNIQUE BY NOW. SO CHANGE TO YOURS.\n",
    "            #####            \n",
    "                       \n",
    "\n",
    "\n",
    "            dfo_with_nulls[\"id\"]= dfo_id\n",
    "            dfo_with_nulls['pred'] = pred_oot\n",
    "\n",
    "            ######\n",
    "            # CHANGE_HERE - START: HERE IT USES THE DEVELOPMENT GINI TO SELECT VARIABLES, YOU SHOULD A DIFFERENT GINI. EITHER THE OOT GINI OR THE SQRT(DEV_GINI*OOT_GINI)\n",
    "            #####                       \n",
    "            #fpr, tpr, thresholds = metrics.roc_curve(Y_train, Y_predict)\n",
    "            #auc = metrics.auc(fpr, tpr)\n",
    "            #gini_power = abs(2*auc-1)\n",
    "            #dfo_with_nulls[\"pred\"]= Y_predict\n",
    "            \n",
    "            dfo_tosend = dfo_with_nulls[list(['id','pred'])]\n",
    "            \n",
    "            i=1\n",
    "            filename = \"student_sub\"+str(i)+\".csv\"\n",
    "            \n",
    "            dfo_tosend.to_csv(filename, sep=',')\n",
    "            url = 'http://mfalonso.pythonanywhere.com/api/v1.0/uploadpredictions'\n",
    "            files = {'file': (filename, open(filename, 'rb'))}\n",
    "            \n",
    "            \n",
    "\n",
    "#              \"\"\"\n",
    "#To compete in this challenge, please create an user at my teaching website: http://mfalonso.pythonanywhere.com\n",
    "#and replace below where it says:\n",
    "#* my_user_name_goes_here\n",
    "#* my_password_goes_here\n",
    "#\"\"\"        \n",
    "            time.sleep(20)\n",
    "            rsub = requests.post(url, files=files, auth=HTTPBasicAuth('linacarrillo', 'draco789'))\n",
    "            resp_str = str(rsub.text)\n",
    "            print (resp_str)\n",
    "            \n",
    "            gini_power = float(resp_str[resp_str.index('KS2'):resp_str.index('; GRADE')][5:18])\n",
    "            filename = \"student_sub\"+ str(gini_power)+str(i)+\".csv\"\n",
    "            dfo_tosend.to_csv(filename, sep=',')\n",
    "            \n",
    "            \n",
    "\n",
    "            \n",
    "            # CHANGE_HERE - END: HERE IT USES THE DEVELOPMENT GINI TO SELECT VARIABLES, YOU SHOULD A DIFFERENT GINI. EITHER THE OOT GINI OR THE SQRT(DEV_GINI*OOT_GINI)\n",
    "            #####                       \n",
    "           \n",
    "            gini=str(gini_power)+\";\"+str(population[j]).replace('[','').replace(', ','').replace(']','')\n",
    "            dic_gini[gini]=population[j]  \n",
    "            \n",
    "\n",
    "    #####\n",
    "    #ASSESSING GINI ON THE OFFSPRING - END\n",
    "    #####\n",
    "\n",
    "    #####\n",
    "    #SELECTING THE BEST FITTED AMONG ALL EVER CREATED POPULATION AND CURRENT OFFSPRING - START\n",
    "    #####           \n",
    "    list_gini=sorted(dic_gini.keys(),reverse=True)\n",
    "    population=[]\n",
    "    for i in list_gini[:NPOPSIZE]:\n",
    "        population.append(dic_gini[i])\n",
    "        gini=float(i.split(';')[0])\n",
    "        sum_current_gini+=gini\n",
    "    #####\n",
    "    #SELECTING THE BEST FITTED AMONG ALL EVER CREATED POPULATION AND CURRENT OFFSPRING - END\n",
    "    #####           \n",
    "      \n",
    "    #HAS IT IMPROVED AT LEAST A LITLE THE GINI IN THE LAST 2 GENERATIONS\n",
    "    print ('sum_current_gini=', sum_current_gini, 'sum_current_gini_1=', sum_current_gini_1, 'sum_current_gini_2=', sum_current_gini_2)\n",
    "    if(sum_current_gini>sum_current_gini_1+0.0001 or sum_current_gini>sum_current_gini_2+0.0001):\n",
    "        OK=1\n",
    "    #if gini_power > 0.40:\n",
    "    #    OK=1\n",
    "#####\n",
    "#GENETIC ALGORITHM MAIN LOOP - END\n",
    "#####\n",
    "\n",
    "\n",
    "gini_max=list_gini[0]        \n",
    "gini=float(gini_max.split(';')[0])\n",
    "features=gini_max.split(';')[1]\n",
    "\n",
    "\n",
    "####\n",
    "# PRINTING OUT THE LIST OF FEATURES\n",
    "#####\n",
    "f=0\n",
    "list_input=[] #empty list that will give us the features selected by the algorithm to use them in our model\n",
    "for i in range(len(features)):\n",
    "    if features[i]=='1':\n",
    "        f+=1\n",
    "        print ('feature ', f, ':', list(list_inputs)[i])\n",
    "        list_input.append(list(list_inputs)[i])\n",
    "print ('gini: ', gini)\n",
    "\n",
    "\n",
    "####################### FUNCTION MANUALLY INTERRUPTED AS I RAN OUT OF TIME ##############################\n"
   ]
  }
 ],
 "metadata": {
  "kernelspec": {
   "display_name": "Python 3",
   "language": "python",
   "name": "python3"
  },
  "language_info": {
   "codemirror_mode": {
    "name": "ipython",
    "version": 3
   },
   "file_extension": ".py",
   "mimetype": "text/x-python",
   "name": "python",
   "nbconvert_exporter": "python",
   "pygments_lexer": "ipython3",
   "version": "3.7.3"
  }
 },
 "nbformat": 4,
 "nbformat_minor": 4
}
